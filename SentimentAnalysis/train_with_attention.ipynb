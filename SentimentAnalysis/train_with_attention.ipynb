{
 "cells": [
  {
   "cell_type": "code",
   "execution_count": null,
   "id": "faf55749",
   "metadata": {},
   "outputs": [],
   "source": [
    "import pandas as pd\n",
    "import torch\n",
    "import re\n",
    "import torch.nn as nn\n",
    "from torch.utils.data import Dataset,DataLoader\n",
    "from transformers import BertTokenizer, BertModel,logging\n",
    "from tqdm import tqdm\n",
    "from sklearn.metrics import f1_score,classification_report"
   ]
  },
  {
   "cell_type": "code",
   "execution_count": null,
   "id": "c72b759ec94d09dd",
   "metadata": {
    "ExecuteTime": {
     "end_time": "2025-05-15T12:47:14.348237Z",
     "start_time": "2025-05-15T12:47:10.268917Z"
    }
   },
   "outputs": [],
   "source": [
    "class SentimentDataset(Dataset):\n",
    "    def __init__(self, csv_file, tokenizer, label2id, max_length=512):\n",
    "        self.data = pd.read_csv(csv_file)\n",
    "        self.tokenizer = tokenizer\n",
    "        self.label2id = label2id\n",
    "        self.max_length = max_length\n",
    "\n",
    "    def __len__(self):\n",
    "        return len(self.data)\n",
    "\n",
    "    def __getitem__(self, idx):\n",
    "        text = str(self.data.iloc[idx]['text'])\n",
    "        label = self.label2id[self.data.iloc[idx]['label']]\n",
    "        encoding = self.tokenizer(\n",
    "            text,\n",
    "            padding='max_length',\n",
    "            truncation=True,\n",
    "            max_length=self.max_length,\n",
    "            return_tensors='pt'\n",
    "        )\n",
    "        return {\n",
    "            'input_ids': encoding['input_ids'].squeeze(0),\n",
    "            'attention_mask': encoding['attention_mask'].squeeze(0),\n",
    "            'labels': label\n",
    "        }\n",
    "    \n",
    "class MiniRBTClassifier(nn.Module):\n",
    "    def __init__(self, model_name=\"hfl/minirbt-h256\", num_labels=3):\n",
    "        super(MiniRBTClassifier, self).__init__()\n",
    "        self.bert = BertModel.from_pretrained(model_name)\n",
    "        self.dropout = nn.Dropout(0.3)\n",
    "        self.classifier = nn.Linear(self.bert.config.hidden_size, num_labels)\n",
    "\n",
    "    def forward(self, input_ids, attention_mask):\n",
    "        outputs = self.bert(input_ids=input_ids,\n",
    "                            attention_mask=attention_mask,\n",
    "                            output_attentions=True)  # 启用返回 attention\n",
    "        cls_output = outputs.last_hidden_state[:, 0, :]  # [CLS] 的输出\n",
    "        x = self.dropout(cls_output)\n",
    "        logits = self.classifier(x)\n",
    "        return logits, outputs.attentions\n"
   ]
  },
  {
   "cell_type": "code",
   "execution_count": null,
   "id": "2bd9968e",
   "metadata": {},
   "outputs": [],
   "source": [
    "# 1. 读取训练数据\n",
    "df = pd.read_csv(\"./data/base_train_cleaned.csv\", header=None, names=[\"text\", \"label\"])\n",
    "\n",
    "# 2. 提取所有形如 [xxx] 的表情\n",
    "def extract_emojis(text):\n",
    "    return re.findall(r'\\[[^\\[\\]]+?\\]', text)\n",
    "\n",
    "# 所有文本中提取的表情列表\n",
    "emoji_list = []\n",
    "for text in df['text']:\n",
    "    emoji_list.extend(extract_emojis(str(text)))  # 防止 NaN\n",
    "\n",
    "# 去重\n",
    "unique_emojis = sorted(set(emoji_list))\n",
    "print(f\"共提取到 {len(unique_emojis)} 个唯一表情：\")"
   ]
  },
  {
   "cell_type": "code",
   "execution_count": null,
   "id": "2f7557e11ebb25cc",
   "metadata": {
    "ExecuteTime": {
     "end_time": "2025-05-15T12:47:54.112167Z",
     "start_time": "2025-05-15T12:47:53.930408Z"
    }
   },
   "outputs": [],
   "source": [
    "\n",
    "\n",
    "# 标签映射\n",
    "label2id = {'积极': 0, '中性': 1, '消极': 2}\n",
    "\n",
    "# 初始化分词器\n",
    "tokenizer = BertTokenizer.from_pretrained('hfl/minirbt-h256')\n",
    "num_added = tokenizer.add_tokens(unique_emojis)\n",
    "tokenizer.save_pretrained(\"minirbt-h256-with-emojis\")\n",
    "\n",
    "# 创建数据集\n",
    "train_dataset = SentimentDataset('data/base_train_cleaned.csv', tokenizer, label2id)\n",
    "val_dataset = SentimentDataset('data/base_val_cleaned.csv', tokenizer, label2id)\n",
    "\n",
    "# 创建数据加载器\n",
    "train_loader = DataLoader(train_dataset, batch_size=32, shuffle=True)\n",
    "val_loader = DataLoader(val_dataset, batch_size=32)\n"
   ]
  },
  {
   "cell_type": "code",
   "execution_count": null,
   "id": "5c038ec3361d15e8",
   "metadata": {
    "ExecuteTime": {
     "end_time": "2025-05-15T12:56:23.470702Z",
     "start_time": "2025-05-15T12:47:55.899751Z"
    }
   },
   "outputs": [],
   "source": [
    "\n",
    "\n",
    "logging.set_verbosity_error()\n",
    "device = torch.device('cuda' if torch.cuda.is_available() else 'cpu')\n",
    "model = MiniRBTClassifier('hfl/minirbt-h256').to(device)\n",
    "model.bert.resize_token_embeddings(len(tokenizer))\n",
    "optimizer = torch.optim.AdamW(model.parameters(), lr=2e-5)\n",
    "criterion = nn.CrossEntropyLoss()\n",
    "epochs = 3\n",
    "\n",
    "for epoch in range(epochs):\n",
    "    model.train()\n",
    "    total_loss = 0\n",
    "    for batch in tqdm(train_loader, desc=f'Epoch {epoch+1}'):\n",
    "        input_ids = batch['input_ids'].to(device)\n",
    "        attention_mask = batch['attention_mask'].to(device)\n",
    "        labels = batch['labels'].to(device)\n",
    "\n",
    "        optimizer.zero_grad()\n",
    "        outputs, attentions = model(input_ids, attention_mask)\n",
    "        loss = criterion(outputs, labels)\n",
    "        loss.backward()\n",
    "        optimizer.step()\n",
    "        total_loss += loss.item()\n",
    "    avg_loss = total_loss / len(train_loader)\n",
    "    print(f'Average training loss: {avg_loss:.4f}')"
   ]
  },
  {
   "cell_type": "code",
   "execution_count": null,
   "id": "57c05f9375c95165",
   "metadata": {
    "ExecuteTime": {
     "end_time": "2025-05-15T12:57:24.221621Z",
     "start_time": "2025-05-15T12:56:50.029897Z"
    }
   },
   "outputs": [],
   "source": [
    "\n",
    "\n",
    "model.eval()\n",
    "all_preds = []\n",
    "all_labels = []\n",
    "with torch.no_grad():\n",
    "    for batch in tqdm(val_loader, desc=f'Epoch {epoch+1}'):\n",
    "        input_ids = batch['input_ids'].to(device)\n",
    "        attention_mask = batch['attention_mask'].to(device)\n",
    "        labels = batch['labels'].to(device)\n",
    "        outputs, attentions = model(input_ids, attention_mask)\n",
    "        preds = torch.argmax(outputs, dim=1)\n",
    "        all_preds.extend(preds.cpu().numpy())\n",
    "        all_labels.extend(labels.cpu().numpy())\n",
    "f1 = f1_score(all_labels, all_preds, average='macro')\n",
    "print(f'Validation F1 Score: {f1:.4f}')\n",
    "print(classification_report(all_labels, all_preds, target_names=label2id.keys()))"
   ]
  },
  {
   "cell_type": "code",
   "execution_count": null,
   "id": "67ea60fe2bef8d8a",
   "metadata": {
    "ExecuteTime": {
     "end_time": "2025-05-15T12:58:26.223810Z",
     "start_time": "2025-05-15T12:58:26.162075Z"
    }
   },
   "outputs": [],
   "source": [
    "# 保存整个模型\n",
    "torch.save(model.state_dict(), 'model/minirbt_with_attention_cleaned.pth')"
   ]
  },
  {
   "cell_type": "code",
   "execution_count": null,
   "id": "494770f98baeeaa6",
   "metadata": {
    "ExecuteTime": {
     "end_time": "2025-05-15T13:12:31.811181Z",
     "start_time": "2025-05-15T13:11:43.465954Z"
    }
   },
   "outputs": [],
   "source": [
    "# 初始化模型并加载训练权重\n",
    "tokenizer = BertTokenizer.from_pretrained(\"./minirbt-h256-with-emojis\")\n",
    "model = MiniRBTClassifier(\"hfl/minirbt-h256\")\n",
    "model.bert.resize_token_embeddings(len(tokenizer))\n",
    "model.load_state_dict(\n",
    "    torch.load(\"model/minirbt_with_attention_cleaned.pth\", weights_only=True)\n",
    ")\n",
    "\n",
    "\n",
    "inputs = tokenizer(\"这个产品不错\", return_tensors=\"pt\", max_length=512, padding=\"max_length\", truncation=True)\n",
    "input_ids = inputs[\"input_ids\"]\n",
    "attention_mask = inputs[\"attention_mask\"]\n",
    "\n",
    "class MiniRBTONNXWrapper(nn.Module):\n",
    "    def __init__(self, model):\n",
    "        super(MiniRBTONNXWrapper, self).__init__()\n",
    "        self.model = model\n",
    "\n",
    "    def forward(self, input_ids, attention_mask):\n",
    "        logits, attentions = self.model(input_ids=input_ids, attention_mask=attention_mask)\n",
    "        stacked_attn = torch.stack(attentions)  # shape: [num_layers, batch, heads, seq, seq]\n",
    "        return logits, stacked_attn\n",
    "\n",
    "model.eval()\n",
    "onnx_model = MiniRBTONNXWrapper(model)\n",
    "\n",
    "torch.onnx.export(\n",
    "    onnx_model,\n",
    "    (input_ids, attention_mask),\n",
    "    \"model/minirbt_with_attention_cleaned.onnx\",\n",
    "    input_names=[\"input_ids\", \"attention_mask\"],\n",
    "    output_names=[\"logits\", \"attentions\"],\n",
    "    dynamic_axes={\n",
    "        \"input_ids\": {0: \"batch_size\", 1: \"seq_len\"},\n",
    "        \"attention_mask\": {0: \"batch_size\", 1: \"seq_len\"},\n",
    "        \"logits\": {0: \"batch_size\"},\n",
    "        \"attentions\": {1: \"batch_size\", 3: \"seq_len\", 4: \"seq_len\"},\n",
    "    },\n",
    "    opset_version=17,\n",
    ")"
   ]
  },
  {
   "cell_type": "code",
   "execution_count": null,
   "id": "1634ba4c",
   "metadata": {},
   "outputs": [],
   "source": [
    "from onnxruntime.quantization import quantize_dynamic, QuantType\n",
    "quantize_dynamic(\n",
    "    model_input=\"model/minirbt_with_attention.onnx\",\n",
    "    model_output=\"model/minirbt_with_attention_quant.onnx\",\n",
    "    weight_type=QuantType.QInt8,  # 或 QuantType.QUInt8\n",
    ")"
   ]
  }
 ],
 "metadata": {
  "kernelspec": {
   "display_name": "torch",
   "language": "python",
   "name": "python3"
  },
  "language_info": {
   "codemirror_mode": {
    "name": "ipython",
    "version": 3
   },
   "file_extension": ".py",
   "mimetype": "text/x-python",
   "name": "python",
   "nbconvert_exporter": "python",
   "pygments_lexer": "ipython3",
   "version": "3.12.9"
  }
 },
 "nbformat": 4,
 "nbformat_minor": 5
}
