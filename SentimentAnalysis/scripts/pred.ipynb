{
 "cells": [
  {
   "cell_type": "code",
   "id": "initial_id",
   "metadata": {
    "collapsed": true,
    "ExecuteTime": {
     "end_time": "2025-05-09T12:27:43.410734Z",
     "start_time": "2025-05-09T12:27:35.807594Z"
    }
   },
   "source": [
    "from transformers import BertTokenizer,BertModel\n",
    "import torch.nn as nn\n",
    "import torch\n",
    "from transformers import logging\n",
    "logging.set_verbosity_error()\n",
    "\n",
    "class MiniRBTClassifier(nn.Module):\n",
    "    def __init__(self, model_name, num_labels=3):\n",
    "        super(MiniRBTClassifier, self).__init__()\n",
    "        self.encoder = BertModel.from_pretrained(model_name)\n",
    "        self.dropout = nn.Dropout(0.3)\n",
    "        self.classifier = nn.Linear(self.encoder.config.hidden_size, num_labels)\n",
    "\n",
    "    def forward(self, input_ids, attention_mask):\n",
    "        outputs = self.encoder(input_ids=input_ids, attention_mask=attention_mask)\n",
    "        pooled_output = outputs.last_hidden_state[:, 0]\n",
    "        pooled_output = self.dropout(pooled_output)\n",
    "        return self.classifier(pooled_output)\n",
    "\n",
    "tokenizer = BertTokenizer.from_pretrained(\"hfl/minirbt-h256\")\n",
    "model = MiniRBTClassifier(model_name=\"hfl/minirbt-h256\")  # 重新实例化模型\n",
    "\n",
    "# 加载模型权重\n",
    "model.load_state_dict(torch.load('minirbt_sentiment_model.pth',map_location='cpu',weights_only=False))\n",
    "model.eval()  # 设置为评估模式\n"
   ],
   "outputs": [
    {
     "data": {
      "text/plain": [
       "MiniRBTClassifier(\n",
       "  (encoder): BertModel(\n",
       "    (embeddings): BertEmbeddings(\n",
       "      (word_embeddings): Embedding(21128, 256, padding_idx=0)\n",
       "      (position_embeddings): Embedding(512, 256)\n",
       "      (token_type_embeddings): Embedding(2, 256)\n",
       "      (LayerNorm): LayerNorm((256,), eps=1e-12, elementwise_affine=True)\n",
       "      (dropout): Dropout(p=0.1, inplace=False)\n",
       "    )\n",
       "    (encoder): BertEncoder(\n",
       "      (layer): ModuleList(\n",
       "        (0-5): 6 x BertLayer(\n",
       "          (attention): BertAttention(\n",
       "            (self): BertSdpaSelfAttention(\n",
       "              (query): Linear(in_features=256, out_features=256, bias=True)\n",
       "              (key): Linear(in_features=256, out_features=256, bias=True)\n",
       "              (value): Linear(in_features=256, out_features=256, bias=True)\n",
       "              (dropout): Dropout(p=0.1, inplace=False)\n",
       "            )\n",
       "            (output): BertSelfOutput(\n",
       "              (dense): Linear(in_features=256, out_features=256, bias=True)\n",
       "              (LayerNorm): LayerNorm((256,), eps=1e-12, elementwise_affine=True)\n",
       "              (dropout): Dropout(p=0.1, inplace=False)\n",
       "            )\n",
       "          )\n",
       "          (intermediate): BertIntermediate(\n",
       "            (dense): Linear(in_features=256, out_features=1024, bias=True)\n",
       "            (intermediate_act_fn): GELUActivation()\n",
       "          )\n",
       "          (output): BertOutput(\n",
       "            (dense): Linear(in_features=1024, out_features=256, bias=True)\n",
       "            (LayerNorm): LayerNorm((256,), eps=1e-12, elementwise_affine=True)\n",
       "            (dropout): Dropout(p=0.1, inplace=False)\n",
       "          )\n",
       "        )\n",
       "      )\n",
       "    )\n",
       "    (pooler): BertPooler(\n",
       "      (dense): Linear(in_features=256, out_features=256, bias=True)\n",
       "      (activation): Tanh()\n",
       "    )\n",
       "  )\n",
       "  (dropout): Dropout(p=0.3, inplace=False)\n",
       "  (classifier): Linear(in_features=256, out_features=3, bias=True)\n",
       ")"
      ]
     },
     "execution_count": 2,
     "metadata": {},
     "output_type": "execute_result"
    }
   ],
   "execution_count": 2
  },
  {
   "metadata": {
    "ExecuteTime": {
     "end_time": "2025-05-09T12:27:43.419795Z",
     "start_time": "2025-05-09T12:27:43.416751Z"
    }
   },
   "cell_type": "code",
   "source": [
    "def predict_sentiment(text, model, tokenizer, max_length=512):\n",
    "    encoding = tokenizer(\n",
    "        text,\n",
    "        padding='max_length',\n",
    "        truncation=True,\n",
    "        max_length=max_length,\n",
    "        return_tensors='pt'\n",
    "    )\n",
    "\n",
    "    input_ids = encoding['input_ids']\n",
    "    attention_mask = encoding['attention_mask']\n",
    "\n",
    "    # 进行推理\n",
    "    with torch.no_grad():  # 关闭梯度计算以节省内存\n",
    "        output = model(input_ids=input_ids, attention_mask=attention_mask)\n",
    "\n",
    "    # 获取模型的预测结果\n",
    "    predicted_class = torch.argmax(output, dim=1).item()\n",
    "    return predicted_class\n"
   ],
   "id": "b684335b727e34f5",
   "outputs": [],
   "execution_count": 3
  },
  {
   "metadata": {
    "ExecuteTime": {
     "end_time": "2025-05-09T12:55:31.262415Z",
     "start_time": "2025-05-09T12:55:31.232107Z"
    }
   },
   "cell_type": "code",
   "source": [
    "# 输入一段文本\n",
    "text = \"谁送我的1.6米的大棕熊啊……赶紧认领下[衰][衰][衰][衰][衰][衰][衰][衰][衰][衰][衰][衰][衰]\"\n",
    "\n",
    "# 获取情感分类的预测结果\n",
    "predicted_class = predict_sentiment(text, model, tokenizer)\n",
    "\n",
    "# 标签映射\n",
    "id2label = {0: '积极', 1: '中性', 2: '消极'}\n",
    "\n",
    "# 输出预测结果\n",
    "print(f\"预测的情感标签是: {id2label[predicted_class]}\")\n"
   ],
   "id": "22da4e98488d42df",
   "outputs": [
    {
     "name": "stdout",
     "output_type": "stream",
     "text": [
      "预测的情感标签是: 消极\n"
     ]
    }
   ],
   "execution_count": 15
  }
 ],
 "metadata": {
  "kernelspec": {
   "display_name": "Python 3",
   "language": "python",
   "name": "python3"
  },
  "language_info": {
   "codemirror_mode": {
    "name": "ipython",
    "version": 2
   },
   "file_extension": ".py",
   "mimetype": "text/x-python",
   "name": "python",
   "nbconvert_exporter": "python",
   "pygments_lexer": "ipython2",
   "version": "2.7.6"
  }
 },
 "nbformat": 4,
 "nbformat_minor": 5
}
